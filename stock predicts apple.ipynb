{
 "cells": [
  {
   "cell_type": "code",
   "execution_count": null,
   "metadata": {},
   "outputs": [],
   "source": []
  },
  {
   "cell_type": "code",
   "execution_count": 6,
   "metadata": {},
   "outputs": [],
   "source": [
    "\n",
    "import pandas as pd\n",
    "import numpy as np\n",
    "from sklearn.preprocessing import MinMaxScaler\n",
    "import tensorflow as tf\n"
   ]
  },
  {
   "cell_type": "code",
   "execution_count": 9,
   "metadata": {},
   "outputs": [
    {
     "data": {
      "text/html": [
       "<div>\n",
       "<style scoped>\n",
       "    .dataframe tbody tr th:only-of-type {\n",
       "        vertical-align: middle;\n",
       "    }\n",
       "\n",
       "    .dataframe tbody tr th {\n",
       "        vertical-align: top;\n",
       "    }\n",
       "\n",
       "    .dataframe thead th {\n",
       "        text-align: right;\n",
       "    }\n",
       "</style>\n",
       "<table border=\"1\" class=\"dataframe\">\n",
       "  <thead>\n",
       "    <tr style=\"text-align: right;\">\n",
       "      <th></th>\n",
       "      <th>Date</th>\n",
       "      <th>Close</th>\n",
       "      <th>Volume</th>\n",
       "      <th>Open</th>\n",
       "      <th>High</th>\n",
       "      <th>Low</th>\n",
       "    </tr>\n",
       "  </thead>\n",
       "  <tbody>\n",
       "    <tr>\n",
       "      <td>0</td>\n",
       "      <td>02/28/2020</td>\n",
       "      <td>$273.36</td>\n",
       "      <td>106721200</td>\n",
       "      <td>$257.26</td>\n",
       "      <td>$278.41</td>\n",
       "      <td>$256.37</td>\n",
       "    </tr>\n",
       "    <tr>\n",
       "      <td>1</td>\n",
       "      <td>02/27/2020</td>\n",
       "      <td>$273.52</td>\n",
       "      <td>80151380</td>\n",
       "      <td>$281.1</td>\n",
       "      <td>$286</td>\n",
       "      <td>$272.96</td>\n",
       "    </tr>\n",
       "    <tr>\n",
       "      <td>2</td>\n",
       "      <td>02/26/2020</td>\n",
       "      <td>$292.65</td>\n",
       "      <td>49678430</td>\n",
       "      <td>$286.53</td>\n",
       "      <td>$297.88</td>\n",
       "      <td>$286.5</td>\n",
       "    </tr>\n",
       "    <tr>\n",
       "      <td>3</td>\n",
       "      <td>02/25/2020</td>\n",
       "      <td>$288.08</td>\n",
       "      <td>57668360</td>\n",
       "      <td>$300.95</td>\n",
       "      <td>$302.53</td>\n",
       "      <td>$286.13</td>\n",
       "    </tr>\n",
       "    <tr>\n",
       "      <td>4</td>\n",
       "      <td>02/24/2020</td>\n",
       "      <td>$298.18</td>\n",
       "      <td>55548830</td>\n",
       "      <td>$297.26</td>\n",
       "      <td>$304.18</td>\n",
       "      <td>$289.23</td>\n",
       "    </tr>\n",
       "  </tbody>\n",
       "</table>\n",
       "</div>"
      ],
      "text/plain": [
       "         Date     Close     Volume      Open      High       Low\n",
       "0  02/28/2020   $273.36  106721200   $257.26   $278.41   $256.37\n",
       "1  02/27/2020   $273.52   80151380    $281.1      $286   $272.96\n",
       "2  02/26/2020   $292.65   49678430   $286.53   $297.88    $286.5\n",
       "3  02/25/2020   $288.08   57668360   $300.95   $302.53   $286.13\n",
       "4  02/24/2020   $298.18   55548830   $297.26   $304.18   $289.23"
      ]
     },
     "execution_count": 9,
     "metadata": {},
     "output_type": "execute_result"
    }
   ],
   "source": [
    "df=pd.read_csv('apple.csv')\n",
    "df.head()"
   ]
  },
  {
   "cell_type": "code",
   "execution_count": 14,
   "metadata": {},
   "outputs": [
    {
     "data": {
      "text/plain": [
       "Index(['Date', ' Close', ' Volume', ' Open', ' High', ' Low'], dtype='object')"
      ]
     },
     "execution_count": 14,
     "metadata": {},
     "output_type": "execute_result"
    }
   ],
   "source": [
    "df.columns"
   ]
  },
  {
   "cell_type": "code",
   "execution_count": 15,
   "metadata": {},
   "outputs": [],
   "source": [
    "df1=df[' Close']"
   ]
  },
  {
   "cell_type": "code",
   "execution_count": 22,
   "metadata": {},
   "outputs": [],
   "source": [
    "df1=df1.str.replace('$','')"
   ]
  },
  {
   "cell_type": "code",
   "execution_count": 23,
   "metadata": {},
   "outputs": [
    {
     "data": {
      "text/plain": [
       "0     273.36\n",
       "1     273.52\n",
       "2     292.65\n",
       "3     288.08\n",
       "4     298.18\n",
       "Name:  Close, dtype: object"
      ]
     },
     "execution_count": 23,
     "metadata": {},
     "output_type": "execute_result"
    }
   ],
   "source": [
    "df1.head()"
   ]
  },
  {
   "cell_type": "code",
   "execution_count": 25,
   "metadata": {},
   "outputs": [],
   "source": [
    "df1=df1.apply(float)"
   ]
  },
  {
   "cell_type": "code",
   "execution_count": 29,
   "metadata": {},
   "outputs": [],
   "source": [
    "scaler=MinMaxScaler(feature_range= (0,1))\n",
    "#scaler.fit(df1)\n",
    "dfs=scaler.fit_transform(np.array(df1).reshape(-1,1))"
   ]
  },
  {
   "cell_type": "code",
   "execution_count": 31,
   "metadata": {},
   "outputs": [
    {
     "data": {
      "text/plain": [
       "array([[8.18942624e-01],\n",
       "       [8.19480684e-01],\n",
       "       [8.83812549e-01],\n",
       "       ...,\n",
       "       [2.30693463e-04],\n",
       "       [0.00000000e+00],\n",
       "       [6.72575693e-05]])"
      ]
     },
     "execution_count": 31,
     "metadata": {},
     "output_type": "execute_result"
    }
   ],
   "source": [
    "dfs"
   ]
  },
  {
   "cell_type": "code",
   "execution_count": 32,
   "metadata": {},
   "outputs": [
    {
     "data": {
      "text/plain": [
       "(2518, 1)"
      ]
     },
     "execution_count": 32,
     "metadata": {},
     "output_type": "execute_result"
    }
   ],
   "source": [
    "dfs.shape"
   ]
  },
  {
   "cell_type": "code",
   "execution_count": 56,
   "metadata": {},
   "outputs": [],
   "source": [
    "train=dfs[:int(0.80*len(dfs)),:]\n",
    "test=dfs[int(0.80*len(dfs)):,:]\n",
    "\n",
    "def train_test(dataset,steps):\n",
    "    trainX,trainY=[],[]\n",
    "    for i in range(len(dataset)-steps-1):\n",
    "        k=dfs[i:i+steps,0]\n",
    "        trainX.append(k)\n",
    "        trainY.append(dfs[i+steps,0])\n",
    "    return trainX,trainY\n",
    "\n",
    "x_train, y_train=train_test(train,200)\n",
    "x_test, y_test=train_test(test,200)\n",
    "\n",
    "x_train=np.array(x_train)\n",
    "x_test=np.array(x_test)\n",
    "y_train=np.array(y_train)\n",
    "y_test=np.array(y_test)"
   ]
  },
  {
   "cell_type": "code",
   "execution_count": 61,
   "metadata": {},
   "outputs": [
    {
     "name": "stdout",
     "output_type": "stream",
     "text": [
      "(1813, 200, 1)\n",
      "(1813, 1)\n",
      "(303, 200, 1)\n"
     ]
    }
   ],
   "source": [
    "print(x_train.shape)\n",
    "print(y_train.shape)\n",
    "print(x_test.shape)"
   ]
  },
  {
   "cell_type": "code",
   "execution_count": 58,
   "metadata": {},
   "outputs": [
    {
     "name": "stdout",
     "output_type": "stream",
     "text": [
      "(1813, 1)\n"
     ]
    }
   ],
   "source": [
    "x_train=x_train.reshape(x_train.shape[0],x_train.shape[1],1)\n",
    "x_test=x_test.reshape(x_test.shape[0],x_test.shape[1],1)"
   ]
  },
  {
   "cell_type": "code",
   "execution_count": 63,
   "metadata": {},
   "outputs": [
    {
     "name": "stdout",
     "output_type": "stream",
     "text": [
      "Epoch 1/10\n",
      "57/57 [==============================] - 30s 524ms/step - loss: 0.0219 - val_loss: 0.0330\n",
      "Epoch 2/10\n",
      "57/57 [==============================] - 17s 302ms/step - loss: 0.0109 - val_loss: 0.0326\n",
      "Epoch 3/10\n",
      "57/57 [==============================] - 12s 217ms/step - loss: 0.0113 - val_loss: 0.0325\n",
      "Epoch 4/10\n",
      "57/57 [==============================] - 12s 209ms/step - loss: 0.0108 - val_loss: 0.0329\n",
      "Epoch 5/10\n",
      "57/57 [==============================] - 12s 207ms/step - loss: 0.0109 - val_loss: 0.0330\n",
      "Epoch 6/10\n",
      "57/57 [==============================] - 12s 205ms/step - loss: 0.0101 - val_loss: 0.0340\n",
      "Epoch 7/10\n",
      "57/57 [==============================] - 12s 203ms/step - loss: 0.0111 - val_loss: 0.0288\n",
      "Epoch 8/10\n",
      "57/57 [==============================] - 12s 209ms/step - loss: 0.0101 - val_loss: 0.0286\n",
      "Epoch 9/10\n",
      "57/57 [==============================] - 12s 208ms/step - loss: 0.0098 - val_loss: 0.0299\n",
      "Epoch 10/10\n",
      "57/57 [==============================] - 12s 207ms/step - loss: 0.0095 - val_loss: 0.0262\n"
     ]
    },
    {
     "data": {
      "text/plain": [
       "<tensorflow.python.keras.callbacks.History at 0x15c6a7a8588>"
      ]
     },
     "execution_count": 63,
     "metadata": {},
     "output_type": "execute_result"
    }
   ],
   "source": [
    "\n",
    "model=tf.keras.Sequential([\n",
    "    tf.keras.layers.LSTM(50, return_sequences=True,input_shape=(200,1) ),\n",
    "    tf.keras.layers.LSTM(50, return_sequences=True ),\n",
    "    tf.keras.layers.LSTM(50 ),\n",
    "    tf.keras.layers.Dense(1)\n",
    "])\n",
    "model.compile(optimizer='adam',loss='mean_squared_error')\n",
    "model.fit(x_train,y_train,validation_data=(x_test,y_test),epochs=10)"
   ]
  },
  {
   "cell_type": "code",
   "execution_count": 64,
   "metadata": {},
   "outputs": [
    {
     "name": "stdout",
     "output_type": "stream",
     "text": [
      "Model: \"sequential\"\n",
      "_________________________________________________________________\n",
      "Layer (type)                 Output Shape              Param #   \n",
      "=================================================================\n",
      "lstm (LSTM)                  (None, 200, 50)           10400     \n",
      "_________________________________________________________________\n",
      "lstm_1 (LSTM)                (None, 200, 50)           20200     \n",
      "_________________________________________________________________\n",
      "lstm_2 (LSTM)                (None, 50)                20200     \n",
      "_________________________________________________________________\n",
      "dense (Dense)                (None, 1)                 51        \n",
      "=================================================================\n",
      "Total params: 50,851\n",
      "Trainable params: 50,851\n",
      "Non-trainable params: 0\n",
      "_________________________________________________________________\n"
     ]
    }
   ],
   "source": [
    "model.summary()"
   ]
  },
  {
   "cell_type": "code",
   "execution_count": null,
   "metadata": {},
   "outputs": [],
   "source": []
  }
 ],
 "metadata": {
  "kernelspec": {
   "display_name": "Python 3",
   "language": "python",
   "name": "python3"
  },
  "language_info": {
   "codemirror_mode": {
    "name": "ipython",
    "version": 3
   },
   "file_extension": ".py",
   "mimetype": "text/x-python",
   "name": "python",
   "nbconvert_exporter": "python",
   "pygments_lexer": "ipython3",
   "version": "3.7.4"
  }
 },
 "nbformat": 4,
 "nbformat_minor": 2
}
